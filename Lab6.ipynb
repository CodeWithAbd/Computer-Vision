{
 "cells": [
  {
   "cell_type": "code",
   "execution_count": 2,
   "metadata": {},
   "outputs": [],
   "source": [
    "## Hough transform "
   ]
  },
  {
   "cell_type": "code",
   "execution_count": 1,
   "metadata": {},
   "outputs": [],
   "source": [
    "import numpy as np\n",
    "import cv2\n",
    "\n",
    "def hough_transform(image, threshold):\n",
    "    # Define the Hough space matrix\n",
    "    height, width = image.shape\n",
    "    diagonal = int(np.ceil(np.sqrt(height**2 + width**2)))\n",
    "    rho_axis = np.arange(-diagonal, diagonal + 1)\n",
    "    theta_axis = np.deg2rad(np.arange(-90, 91))\n",
    "    hough_space = np.zeros((len(rho_axis), len(theta_axis)), dtype=np.uint64)\n",
    "\n",
    "    # Find the edges in the image using Canny edge detection\n",
    "    edges = cv2.Canny(image, 50, 150)\n",
    "\n",
    "    # Loop over each edge pixel and apply the Hough transform\n",
    "    y_idxs, x_idxs = np.nonzero(edges)\n",
    "    for i in range(len(x_idxs)):\n",
    "        x = x_idxs[i]\n",
    "        y = y_idxs[i]\n",
    "        for j in range(len(theta_axis)):\n",
    "            rho = int(x * np.cos(theta_axis[j]) + y * np.sin(theta_axis[j])) + diagonal\n",
    "            hough_space[rho, j] += 1\n",
    "\n",
    "    # Find the indices of the top 'threshold' values in the Hough space\n",
    "    indices = np.argpartition(hough_space.flatten(), -threshold)[-threshold:]\n",
    "    indices = np.unravel_index(indices, hough_space.shape)\n",
    "\n",
    "    return indices, rho_axis, theta_axis\n",
    "\n",
    "def draw_lines(image, indices, rho_axis, theta_axis):\n",
    "    # Draw the lines corresponding to the top Hough space values\n",
    "    for i in range(len(indices[0])):\n",
    "        rho = rho_axis[indices[0][i]]\n",
    "        theta = theta_axis[indices[1][i]]\n",
    "        a = np.cos(theta)\n",
    "        b = np.sin(theta)\n",
    "        x0 = a * (rho - image.shape[0] / 2) + image.shape[1] / 2\n",
    "        y0 = b * (rho - image.shape[0] / 2) + image.shape[0] / 2\n",
    "        x1 = int(x0 + 1000 * (-b))\n",
    "        y1 = int(y0 + 1000 * (a))\n",
    "        x2 = int(x0 - 1000 * (-b))\n",
    "        y2 = int(y0 - 1000 * (a))\n",
    "        cv2.line(image, (x1, y1), (x2, y2), (0, 0, 255), 2)\n",
    "\n",
    "    return image\n"
   ]
  },
  {
   "cell_type": "code",
   "execution_count": null,
   "metadata": {},
   "outputs": [],
   "source": [
    "# To use this implementation, simply call the hough_transform function with an input image and a threshold value:"
   ]
  },
  {
   "cell_type": "code",
   "execution_count": 2,
   "metadata": {},
   "outputs": [],
   "source": [
    "image = cv2.imread('img.jpeg', cv2.IMREAD_GRAYSCALE)\n",
    "indices, rho_axis, theta_axis = hough_transform(image, 10)"
   ]
  },
  {
   "cell_type": "code",
   "execution_count": null,
   "metadata": {},
   "outputs": [],
   "source": [
    "# Then, you can use the draw_lines function to draw the lines corresponding to the top Hough space values on the input image:"
   ]
  },
  {
   "cell_type": "code",
   "execution_count": 3,
   "metadata": {},
   "outputs": [
    {
     "data": {
      "text/plain": [
       "-1"
      ]
     },
     "execution_count": 3,
     "metadata": {},
     "output_type": "execute_result"
    }
   ],
   "source": [
    "output = draw_lines(image, indices, rho_axis, theta_axis)\n",
    "cv2.imshow('output', output)\n",
    "cv2.waitKey(0)"
   ]
  },
  {
   "cell_type": "code",
   "execution_count": null,
   "metadata": {},
   "outputs": [],
   "source": [
    "# This will display the input image with the detected lines drawn on it."
   ]
  },
  {
   "cell_type": "code",
   "execution_count": null,
   "metadata": {},
   "outputs": [],
   "source": []
  }
 ],
 "metadata": {
  "kernelspec": {
   "display_name": "Python 3",
   "language": "python",
   "name": "python3"
  },
  "language_info": {
   "codemirror_mode": {
    "name": "ipython",
    "version": 3
   },
   "file_extension": ".py",
   "mimetype": "text/x-python",
   "name": "python",
   "nbconvert_exporter": "python",
   "pygments_lexer": "ipython3",
   "version": "3.11.0"
  },
  "orig_nbformat": 4
 },
 "nbformat": 4,
 "nbformat_minor": 2
}
